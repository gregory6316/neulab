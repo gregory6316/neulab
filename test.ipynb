{
 "cells": [
  {
   "cell_type": "code",
   "execution_count": 1,
   "metadata": {},
   "outputs": [
    {
     "data": {
      "text/plain": [
       "(array([0.2, 0. , 1. , 0.4, 0.4]),\n",
       " array([-0.5976143 , -1.19522861,  1.79284291,  0.        ,  0.        ]))"
      ]
     },
     "execution_count": 1,
     "metadata": {},
     "output_type": "execute_result"
    }
   ],
   "source": [
    "from Normalization import MaxMinNormalization, MeanNormalization\n",
    "import pandas as pd\n",
    "\n",
    "d = {'col1': [1, 0, 5, 2, 2]}\n",
    "df = pd.DataFrame(data=d)\n",
    "\n",
    "n1 = MaxMinNormalization(column=df.col1)\n",
    "n2 = MeanNormalization(column=df.col1)\n",
    "n1, n2"
   ]
  },
  {
   "cell_type": "code",
   "execution_count": 7,
   "metadata": {},
   "outputs": [
    {
     "data": {
      "text/plain": [
       "2"
      ]
     },
     "execution_count": 7,
     "metadata": {},
     "output_type": "execute_result"
    }
   ],
   "source": [
    "from RestoreValue import ModeRestore\n",
    "import pandas as pd\n",
    "\n",
    "d = {'col1': [1, 0, 5, 2, 2]}\n",
    "df = pd.DataFrame(data=d)\n",
    "\n",
    "mode = ModeRestore(column=df.col1)\n",
    "mode"
   ]
  },
  {
   "cell_type": "code",
   "execution_count": null,
   "metadata": {},
   "outputs": [],
   "source": []
  }
 ],
 "metadata": {
  "interpreter": {
   "hash": "3c26c9a9f719f5de1012e5e5e8bc8d4fe58c071e5a997018b1c31fde085b43ca"
  },
  "kernelspec": {
   "display_name": "Python 3.10.3 64-bit ('3.10.3')",
   "language": "python",
   "name": "python3"
  },
  "language_info": {
   "codemirror_mode": {
    "name": "ipython",
    "version": 3
   },
   "file_extension": ".py",
   "mimetype": "text/x-python",
   "name": "python",
   "nbconvert_exporter": "python",
   "pygments_lexer": "ipython3",
   "version": "3.10.3"
  },
  "orig_nbformat": 4
 },
 "nbformat": 4,
 "nbformat_minor": 2
}
